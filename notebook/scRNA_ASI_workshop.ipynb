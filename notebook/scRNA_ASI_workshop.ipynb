{
  "cells": [
    {
      "cell_type": "markdown",
      "metadata": {
        "colab_type": "text",
        "id": "view-in-github"
      },
      "source": [
        "<a href=\"https://colab.research.google.com/github/tuonglab/scRNA_WCAI/blob/master/notebook/scRNA_WCAI_demo.ipynb\" target=\"_parent\"><img src=\"https://colab.research.google.com/assets/colab-badge.svg\" alt=\"Open In Colab\"/></a>"
      ]
    },
    {
      "cell_type": "markdown",
      "metadata": {
        "id": "dKplgAn4HDd_"
      },
      "source": [
        "# scRNA-seq ASI2024 pre-conference workshop analysis demo!\n",
        "\n",
        "Before we dive into the demo, let's first install the necessary packages."
      ]
    },
    {
      "cell_type": "code",
      "execution_count": null,
      "metadata": {
        "id": "R5OS_FAtkT8A"
      },
      "outputs": [],
      "source": [
        "# setup the notebook\n",
        "!pip install -qqq scanpy[leiden]\n",
        "# second thing to do is to clone the repository so that we have all the data and notebooks ready to go\n",
        "!git clone https://github.com/tuonglab/scRNA_ASI_workshop.git"
      ]
    },
    {
      "cell_type": "code",
      "execution_count": null,
      "metadata": {
        "id": "euKOJd38Kxcz"
      },
      "outputs": [],
      "source": [
        "# just to make the the code run a bit quieter, i'm suppressing a few warnings here\n",
        "\n",
        "import warnings\n",
        "\n",
        "from numba.core.errors import NumbaDeprecationWarning, NumbaWarning\n",
        "\n",
        "for warn in [\n",
        "    NumbaDeprecationWarning,\n",
        "    NumbaWarning,\n",
        "    FutureWarning,\n",
        "    UserWarning,\n",
        "]:  # otherwise very noisy\n",
        "    warnings.filterwarnings(\"ignore\", category=warn)"
      ]
    },
    {
      "cell_type": "markdown",
      "metadata": {
        "id": "jyeGlt5HkR-O"
      },
      "source": [
        "# Single-cell RNA seq analysis Demo"
      ]
    },
    {
      "cell_type": "markdown",
      "metadata": {
        "id": "p4LcZHPGkR-S"
      },
      "source": [
        "This demo will show you the common steps involved to get you started on single cell analysis in Python using [`Scanpy`](https://scanpy.readthedocs.io/en/stable/), the toolkit for analysing single-cell gene expression data.\n",
        "\n",
        "<a href=\"https://scanpy.readthedocs.io/en/stable/\"><img src=\"https://scanpy.readthedocs.io/en/stable/_static/Scanpy_Logo_BrightFG.svg\" alt=\"anndata_schema\" width=\"100\">\n"
      ]
    },
    {
      "cell_type": "markdown",
      "metadata": {
        "id": "Dbk22jSnkR-T"
      },
      "source": [
        "## Preprocessing and Quality Control"
      ]
    },
    {
      "cell_type": "markdown",
      "metadata": {
        "id": "20nZhDH6kR-U"
      },
      "source": [
        "First, import packages needed for single-cell RNA seq analysis."
      ]
    },
    {
      "cell_type": "code",
      "execution_count": null,
      "metadata": {
        "id": "Damq_kOCkR-U"
      },
      "outputs": [],
      "source": [
        "import os\n",
        "\n",
        "import scanpy as sc\n",
        "import pandas as pd"
      ]
    },
    {
      "cell_type": "markdown",
      "metadata": {
        "id": "r-TLb5sqkR-W"
      },
      "source": [
        "Show current directory:"
      ]
    },
    {
      "cell_type": "code",
      "execution_count": null,
      "metadata": {
        "id": "RvBa0U0OkR-W",
        "scrolled": true
      },
      "outputs": [],
      "source": [
        "os.getcwd()"
      ]
    },
    {
      "cell_type": "code",
      "execution_count": null,
      "metadata": {
        "id": "zSK1b2lcmlyX"
      },
      "outputs": [],
      "source": [
        "# change directory\n",
        "os.chdir(\"scRNA_ASI_workshop\")\n",
        "[file for file in os.listdir() if not file.startswith(\".\")]"
      ]
    },
    {
      "cell_type": "markdown",
      "metadata": {
        "id": "lQ5WpsARkR-X"
      },
      "source": [
        "Print software versions:"
      ]
    },
    {
      "cell_type": "code",
      "execution_count": null,
      "metadata": {
        "id": "JDc30Ko6kR-X"
      },
      "outputs": [],
      "source": [
        "sc.logging.print_header()"
      ]
    },
    {
      "cell_type": "markdown",
      "metadata": {
        "id": "ptMIeRZCkR-Y"
      },
      "source": [
        "### Reading in files for analysis\n",
        "\n",
        "For this demo, we have already saved the starting raw datafile as an `.h5ad` file which is a common file format used in single-cell analysis. You can read in the file using the `read_h5ad` function from [`anndata`](https://anndata.readthedocs.io/) package.\n",
        "\n",
        "This file contains the raw counts of the cells and genes, as well as the metadata associated with the cells and genes.\n",
        "\n",
        "The file is saved in the `data` folder.\n",
        "\n",
        "\n",
        "<a href=\"https://anndata.readthedocs.io/\"><img src=\"https://raw.githubusercontent.com/scverse/anndata/main/docs/_static/img/anndata_schema.svg\" alt=\"anndata_schema\" width=\"500\">"
      ]
    },
    {
      "cell_type": "markdown",
      "metadata": {
        "id": "cnhzn07yoAGb"
      },
      "source": [
        "The dataset we will be demo-ing today is on the human prostate.\n",
        "\n",
        "<a href=\"https://www.frontiersin.org/journals/endocrinology/articles/10.3389/fendo.2022.1006101/full\"><img src=\"https://www.frontiersin.org/files/Articles/1006101/fendo-13-1006101-HTML-r1/image_m/fendo-13-1006101-g001.jpg\" alt=\"human prostate schema\" width=\"500\">\n"
      ]
    },
    {
      "cell_type": "code",
      "execution_count": null,
      "metadata": {
        "id": "4LpdCxz_kR-Y"
      },
      "outputs": [],
      "source": [
        "adata = sc.read_h5ad(\"data/prostate_demo.h5ad\")\n",
        "adata"
      ]
    },
    {
      "cell_type": "code",
      "execution_count": null,
      "metadata": {
        "id": "vXOdLi7neWaP"
      },
      "outputs": [],
      "source": [
        "adata.obs"
      ]
    },
    {
      "cell_type": "code",
      "execution_count": null,
      "metadata": {
        "id": "vkI7WQBVkR-Z"
      },
      "outputs": [],
      "source": [
        "adata.var"
      ]
    },
    {
      "cell_type": "markdown",
      "metadata": {
        "id": "ihLX30LheWaQ"
      },
      "source": [
        "## Standard Quality control\n",
        "\n",
        "A very common QC step is to assess the mitochondrial content.\n",
        "\n",
        "High mitochondrial content is often associated with poor quality cells. We can calculate the percentage of mitochondrial genes in each cell and plot it."
      ]
    },
    {
      "cell_type": "code",
      "execution_count": null,
      "metadata": {
        "id": "TGb0oRl-eWaQ"
      },
      "outputs": [],
      "source": [
        "# mitochondrial genes, \"MT-\" for human, \"Mt-\" for mouse\n",
        "adata.var[\"mt\"] = adata.var_names.str.startswith(\"MT-\")\n",
        "sc.pp.calculate_qc_metrics(\n",
        "    adata,\n",
        "    qc_vars=[\n",
        "        \"mt\",\n",
        "    ],\n",
        "    inplace=True,\n",
        "    log1p=True,\n",
        ")"
      ]
    },
    {
      "cell_type": "markdown",
      "metadata": {
        "id": "JIeSwB1BeWaQ"
      },
      "source": [
        "One can now inspect violin plots of some of the computed QC metrics:\n",
        "\n",
        "> the number of genes expressed in the count matrix\n",
        "\n",
        "> the total counts per cell\n",
        "\n",
        "> the percentage of counts in mitochondrial/ribosomal genes"
      ]
    },
    {
      "cell_type": "code",
      "execution_count": null,
      "metadata": {
        "id": "gIpaxuPOeWaQ"
      },
      "outputs": [],
      "source": [
        "sc.pl.violin(\n",
        "    adata,\n",
        "    [\n",
        "        \"n_genes_by_counts\",\n",
        "        \"total_counts\",\n",
        "        \"pct_counts_mt\",\n",
        "    ],\n",
        "    jitter=0.4,\n",
        "    multi_panel=True,\n",
        ")"
      ]
    },
    {
      "cell_type": "code",
      "execution_count": null,
      "metadata": {
        "id": "ur_v3dWjeWaQ"
      },
      "outputs": [],
      "source": [
        "sc.pl.violin(\n",
        "    adata,\n",
        "    [\n",
        "        \"n_genes_by_counts\",\n",
        "        \"total_counts\",\n",
        "        \"pct_counts_mt\",\n",
        "    ],\n",
        "    jitter=0.4,\n",
        "    groupby=\"name\",\n",
        "    multi_panel=True,\n",
        "    rotation=90,\n",
        ")"
      ]
    },
    {
      "cell_type": "markdown",
      "metadata": {
        "id": "3j5o8VV-eWaQ"
      },
      "source": [
        "Additionally, it is useful to consider QC metrics jointly by inspecting a scatter plot colored by `pct_counts_mt`."
      ]
    },
    {
      "cell_type": "code",
      "execution_count": null,
      "metadata": {
        "id": "adSyoqDceWaQ"
      },
      "outputs": [],
      "source": [
        "sc.pl.scatter(adata, x=\"total_counts\", y=\"n_genes_by_counts\", color=\"pct_counts_mt\")\n",
        "sc.pl.scatter(adata, x=\"pct_counts_mt\", y=\"n_genes_by_counts\", color=\"total_counts\")"
      ]
    },
    {
      "cell_type": "markdown",
      "metadata": {
        "id": "VRMfMvoJkR-a"
      },
      "source": [
        "Continue processing with \"good\" cells only.."
      ]
    },
    {
      "cell_type": "code",
      "execution_count": null,
      "metadata": {
        "id": "gFUet2zPkR-a"
      },
      "outputs": [],
      "source": [
        "# filter cells if they do not express at least 200 genes\n",
        "sc.pp.filter_cells(adata, min_genes=200)\n",
        "# filter genes if they are expressed in at least 3 cells\n",
        "sc.pp.filter_genes(adata, min_cells=3)"
      ]
    },
    {
      "cell_type": "code",
      "execution_count": null,
      "metadata": {
        "id": "GKbLY_D5Xz0d"
      },
      "outputs": [],
      "source": [
        "# always check after you have done some filtering to ensure that you are happy with the results\n",
        "adata"
      ]
    },
    {
      "cell_type": "markdown",
      "metadata": {
        "id": "25lhkpvcYytt"
      },
      "source": [
        "❓Are the cut-offs always appropriate?"
      ]
    },
    {
      "cell_type": "markdown",
      "metadata": {
        "id": "hMTXCmYwkR-b"
      },
      "source": [
        "## Normalisation"
      ]
    },
    {
      "cell_type": "markdown",
      "metadata": {
        "id": "Eaniil6pwAxu"
      },
      "source": [
        "Normalise (library-size correct) the data matrix 𝐗 to 10,000 counts per cell, so that information become comparable between cells."
      ]
    },
    {
      "cell_type": "code",
      "execution_count": null,
      "metadata": {
        "id": "31GZf02qkR-j"
      },
      "outputs": [],
      "source": [
        "sc.pp.normalize_total(adata, target_sum=1e4)\n",
        "\n",
        "# Logarithmise the data:\n",
        "sc.pp.log1p(adata)"
      ]
    },
    {
      "cell_type": "markdown",
      "metadata": {
        "id": "S5sS4-TveWaQ"
      },
      "source": [
        "## Highly Variable Feature/Gene selection"
      ]
    },
    {
      "cell_type": "markdown",
      "metadata": {
        "id": "nOtGQx1GkR-k"
      },
      "source": [
        "Identify and inspect highly-variable genes"
      ]
    },
    {
      "cell_type": "code",
      "execution_count": null,
      "metadata": {
        "id": "laIpQxySkR-k"
      },
      "outputs": [],
      "source": [
        "# (Expects logarithimised data)\n",
        "sc.pp.highly_variable_genes(adata, min_mean=0.0125, max_mean=3, min_disp=0.5)"
      ]
    },
    {
      "cell_type": "code",
      "execution_count": null,
      "metadata": {
        "id": "ze4kO1dqeWaR"
      },
      "outputs": [],
      "source": [
        "sc.pl.highly_variable_genes(adata)"
      ]
    },
    {
      "cell_type": "markdown",
      "metadata": {
        "id": "YSoZTnwixG5d"
      },
      "source": [
        "🔔 Count how many is actually highly variable."
      ]
    },
    {
      "cell_type": "code",
      "execution_count": null,
      "metadata": {
        "id": "oMiB0JlfJf9J"
      },
      "outputs": [],
      "source": [
        "adata.var.highly_variable.value_counts()"
      ]
    },
    {
      "cell_type": "code",
      "execution_count": null,
      "metadata": {
        "id": "BikkOPTEkR-n"
      },
      "outputs": [],
      "source": [
        "# stash the normalised counts in raw, before we subset to only highly variable genes\n",
        "adata.raw = adata"
      ]
    },
    {
      "cell_type": "markdown",
      "metadata": {
        "id": "Ob6rvq5DkR-o"
      },
      "source": [
        "## Dimensionality Reduction"
      ]
    },
    {
      "cell_type": "markdown",
      "metadata": {
        "id": "Vu0IpuaAkR-o"
      },
      "source": [
        "### Step 1: Subset to only highly variable genes"
      ]
    },
    {
      "cell_type": "code",
      "execution_count": null,
      "metadata": {
        "id": "ujCYgSqikR-o",
        "scrolled": true
      },
      "outputs": [],
      "source": [
        "# Actually do the filtering for PCA\n",
        "adata = adata[\n",
        "    :, adata.var.highly_variable\n",
        "].copy()  # all rows/indexes : columns only selecting for those within high_variable, and then making a copy of itself\n",
        "adata"
      ]
    },
    {
      "cell_type": "markdown",
      "metadata": {
        "id": "SpJWxehWkR-o"
      },
      "source": [
        "### Step 2: Regress out effects of \"total_counts\" per cell and percentage of mitochondrial genes expressed"
      ]
    },
    {
      "cell_type": "code",
      "execution_count": null,
      "metadata": {
        "id": "FJnkYcs4kR-p"
      },
      "outputs": [],
      "source": [
        "sc.pp.regress_out(adata, [\"total_counts\", \"pct_counts_mt\"])"
      ]
    },
    {
      "cell_type": "markdown",
      "metadata": {
        "id": "42fj9mNVkR-p"
      },
      "source": [
        "### Step 3: Scale each gene to unit variance. Clip values exceeding standard deviation of 10."
      ]
    },
    {
      "cell_type": "code",
      "execution_count": null,
      "metadata": {
        "id": "ek0WgP_6kR-p"
      },
      "outputs": [],
      "source": [
        "sc.pp.scale(adata, max_value=10)"
      ]
    },
    {
      "cell_type": "markdown",
      "metadata": {
        "id": "A_-iOqLQkR-p"
      },
      "source": [
        ">❓Why do we need to scale the data?"
      ]
    },
    {
      "cell_type": "markdown",
      "metadata": {
        "id": "fb03DQEIeWaU"
      },
      "source": [
        "### Step 4: Perform Principal Component Analysis (PCA)\n",
        "\n",
        "PCA is a linear dimensionality reduction technique that can be used to reduce the dimensionality of the data while retaining most of the variance in the data. It does this by transforming the data into a new set of orthogonal axes called principal components. It is not just used in single-cell analysis but in many other fields as well."
      ]
    },
    {
      "cell_type": "code",
      "execution_count": null,
      "metadata": {
        "id": "teCcK9a9kR-p"
      },
      "outputs": [],
      "source": [
        "sc.tl.pca(adata, svd_solver=\"arpack\")"
      ]
    },
    {
      "cell_type": "markdown",
      "metadata": {
        "id": "9jEkAFRLeWaU"
      },
      "source": [
        "Plot to visualise the variance contribution by each PC\n"
      ]
    },
    {
      "cell_type": "code",
      "execution_count": null,
      "metadata": {
        "id": "mcpaEBtGkR-p"
      },
      "outputs": [],
      "source": [
        "sc.pl.pca_variance_ratio(adata, log=True, n_pcs=50)"
      ]
    },
    {
      "cell_type": "markdown",
      "metadata": {
        "id": "Q2EN9MnPeWaU"
      },
      "source": [
        "### Step 4: Compute neighbourhood graph"
      ]
    },
    {
      "cell_type": "code",
      "execution_count": null,
      "metadata": {
        "id": "hRv3VFrkkR-p"
      },
      "outputs": [],
      "source": [
        "sc.pp.neighbors(adata, n_neighbors=10, n_pcs=40)"
      ]
    },
    {
      "cell_type": "markdown",
      "metadata": {
        "id": "FtYnUP9CkR-p"
      },
      "source": [
        "### Step 5: Embed the neighbourhood graph using UMAP\n",
        "\n",
        "UMAP stands for Uniform Manifold Approximation and Projection. It is a non-linear dimensionality reduction technique that is well-suited for preserving local structure in high-dimensional data."
      ]
    },
    {
      "cell_type": "code",
      "execution_count": null,
      "metadata": {
        "id": "0iNxC3D2kR-q"
      },
      "outputs": [],
      "source": [
        "sc.tl.umap(adata, min_dist=0.3)  # 0.3 is personal preference"
      ]
    },
    {
      "cell_type": "markdown",
      "metadata": {
        "id": "AXE8XTElkR-q"
      },
      "source": [
        "#### Visualise UMAP:"
      ]
    },
    {
      "cell_type": "code",
      "execution_count": null,
      "metadata": {
        "id": "wESPRZGBkR-q"
      },
      "outputs": [],
      "source": [
        "sc.pl.umap(\n",
        "    adata,\n",
        "    color=[\n",
        "        \"patient\",\n",
        "        \"group\",\n",
        "        \"age\",\n",
        "    ],\n",
        "    ncols=1,\n",
        ")"
      ]
    },
    {
      "cell_type": "markdown",
      "metadata": {
        "id": "6SYOA06-eWaU"
      },
      "source": [
        "### Step 4 and 5 again: Batch correction!\n",
        "\n",
        "Harmony is a popular batch correction tool that iteratively learns a cell-specific linear correction function at the level of PCA space. It is a very powerful tool for batch correction in single-cell analysis.\n",
        "\n",
        "It can project ells into a shared embedding in which cells group by cell type rather than dataset-specific conditions, simultaneously accounts for multiple experimental and biological factors."
      ]
    },
    {
      "cell_type": "code",
      "execution_count": null,
      "metadata": {
        "id": "_DOmlGPkfXXq"
      },
      "outputs": [],
      "source": [
        "# first let's install harmony\n",
        "!pip install -qqq harmonypy"
      ]
    },
    {
      "cell_type": "code",
      "execution_count": null,
      "metadata": {
        "id": "vuVFdnr-eWaV"
      },
      "outputs": [],
      "source": [
        "sc.external.pp.harmony_integrate(adata, key=\"barcode\")"
      ]
    },
    {
      "cell_type": "code",
      "execution_count": null,
      "metadata": {
        "id": "8lCDJj2FeWaV"
      },
      "outputs": [],
      "source": [
        "adata"
      ]
    },
    {
      "cell_type": "code",
      "execution_count": null,
      "metadata": {
        "id": "EpYWj6bheWaV"
      },
      "outputs": [],
      "source": [
        "sc.pp.neighbors(adata, n_neighbors=10, use_rep=\"X_pca_harmony\")"
      ]
    },
    {
      "cell_type": "code",
      "execution_count": null,
      "metadata": {
        "id": "XUO9-Jj4eWaV"
      },
      "outputs": [],
      "source": [
        "sc.tl.umap(adata, min_dist=0.3)  # 0.3 is personal preference"
      ]
    },
    {
      "cell_type": "code",
      "execution_count": null,
      "metadata": {
        "id": "SgAI4UCreWaV"
      },
      "outputs": [],
      "source": [
        "sc.pl.umap(\n",
        "    adata,\n",
        "    color=[\n",
        "        \"patient\",\n",
        "        \"group\",\n",
        "        \"age\",\n",
        "    ],\n",
        "    ncols=1,\n",
        ")"
      ]
    },
    {
      "cell_type": "markdown",
      "metadata": {
        "id": "hSbZsW6NeWaV"
      },
      "source": [
        "### Step 6: Clustering\n",
        "\n",
        "We will use the `leiden` algorithm to cluster the cells into different groups. It is a graph-based clustering algorithm that is very popular in single-cell analysis. It is based on optimizing a modularity function that is used to detect communities in networks. It has a resolution parameter that can be tuned to get different levels of granularity in the clustering."
      ]
    },
    {
      "cell_type": "code",
      "execution_count": null,
      "metadata": {
        "id": "2aQ0348JeWaV"
      },
      "outputs": [],
      "source": [
        "sc.tl.leiden(adata, resolution=0.5)"
      ]
    },
    {
      "cell_type": "code",
      "execution_count": null,
      "metadata": {
        "id": "o5OaIxxBeWaV"
      },
      "outputs": [],
      "source": [
        "sc.pl.umap(adata, color=\"leiden\")"
      ]
    },
    {
      "cell_type": "code",
      "execution_count": null,
      "metadata": {
        "id": "6mag-VwgeWaV"
      },
      "outputs": [],
      "source": [
        "sc.pl.umap(adata, color=\"leiden\", legend_loc=\"on data\", legend_fontoutline=2)"
      ]
    },
    {
      "cell_type": "markdown",
      "metadata": {
        "id": "IjELBzUYeWaV"
      },
      "source": [
        "### Step 7: Cell type annotation\n",
        "\n",
        "From here on, the analysis will be more focused on the biological interpretation of the clusters. We will use marker genes to annotate the clusters with cell types.\n",
        "\n",
        "The way to approach this can vary and I will first show using a statistical test to identify marker genes for each cluster. We will use the `rank_genes_groups` function from `scanpy` to identify marker genes for each cluster."
      ]
    },
    {
      "cell_type": "markdown",
      "metadata": {
        "id": "MLambNbaeWaV"
      },
      "source": [
        "### 7.1: Rank genes per cluster using Wilcoxon rank-sum test"
      ]
    },
    {
      "cell_type": "code",
      "execution_count": null,
      "metadata": {
        "id": "jTCQNUDzeWaV"
      },
      "outputs": [],
      "source": [
        "sc.tl.rank_genes_groups(adata, \"leiden\", method=\"wilcoxon\")"
      ]
    },
    {
      "cell_type": "markdown",
      "metadata": {
        "id": "lE4sqC_reWaV"
      },
      "source": [
        "Let's visualise the top statistically significant marker genes for each cluster."
      ]
    },
    {
      "cell_type": "code",
      "execution_count": null,
      "metadata": {
        "id": "Kb-9CUFTeWaV"
      },
      "outputs": [],
      "source": [
        "sc.pl.rank_genes_groups(adata, n_genes=25, sharey=False)"
      ]
    },
    {
      "cell_type": "markdown",
      "metadata": {
        "id": "dvV1f8E7eWaV"
      },
      "source": [
        "We can also visualise this as a dot plot."
      ]
    },
    {
      "cell_type": "code",
      "execution_count": null,
      "metadata": {
        "id": "ti35jfX4eWaV"
      },
      "outputs": [],
      "source": [
        "sc.pl.rank_genes_groups_dotplot(\n",
        "    adata, n_genes=3, color_map=\"Blues\", standard_scale=\"var\", min_logfoldchange=1\n",
        ")"
      ]
    },
    {
      "cell_type": "markdown",
      "metadata": {
        "id": "l4T41aF_eWaV"
      },
      "source": [
        "### 7.2: Manually select marker genes\n",
        "\n",
        "Ask yourself, what are relevant genes for each cluster? What are the marker genes that you would expect to see?"
      ]
    },
    {
      "cell_type": "code",
      "execution_count": null,
      "metadata": {
        "id": "sMftkuVdeWaV"
      },
      "outputs": [],
      "source": [
        "marker_genes = {\n",
        "    \"\": [\n",
        "        \"\",\n",
        "    ],\n",
        "}"
      ]
    },
    {
      "cell_type": "code",
      "execution_count": null,
      "metadata": {
        "id": "yj1_xqT3eWaV"
      },
      "outputs": [],
      "source": [
        "sc.pl.dotplot(\n",
        "    adata, marker_genes, groupby=\"leiden\", standard_scale=\"var\", color_map=\"Blues\"\n",
        ")"
      ]
    },
    {
      "cell_type": "code",
      "execution_count": null,
      "metadata": {
        "id": "Gkk2iuw5eWaV"
      },
      "outputs": [],
      "source": [
        "sc.pl.umap(adata, color=[])"
      ]
    },
    {
      "cell_type": "markdown",
      "metadata": {
        "id": "BpKXKnuPeWaV"
      },
      "source": [
        "### Transfer the annotations"
      ]
    },
    {
      "cell_type": "code",
      "execution_count": null,
      "metadata": {
        "id": "mEXr6LJQeWaV"
      },
      "outputs": [],
      "source": [
        "cell_types = {\n",
        "    \"0\": \"\",\n",
        "    \"1\": \"\",\n",
        "    \"2\": \"\",\n",
        "    \"3\": \"\",\n",
        "    \"4\": \"\",\n",
        "    \"5\": \"\",\n",
        "    \"6\": \"\",\n",
        "    \"7\": \"\",\n",
        "    \"8\": \"\",\n",
        "    \"9\": \"\",\n",
        "    \"10\": \"\",\n",
        "    \"11\": \"\",\n",
        "    \"12\": \"\",\n",
        "    \"13\": \"\",\n",
        "    \"14\": \"\",\n",
        "    \"15\": \"\",\n",
        "    \"16\": \"\",\n",
        "    \"17\": \"\",\n",
        "    \"18\": \"\",\n",
        "    \"19\": \"\",\n",
        "}\n",
        "\n",
        "adata.obs[\"cell_type\"] = [cell_types[x] for x in adata.obs[\"leiden\"]]"
      ]
    },
    {
      "cell_type": "code",
      "execution_count": null,
      "metadata": {
        "id": "C_2LDfLBeWaW"
      },
      "outputs": [],
      "source": [
        "sc.pl.umap(adata, color=\"cell_type\", legend_loc=\"on data\", legend_fontoutline=2)"
      ]
    },
    {
      "cell_type": "markdown",
      "metadata": {
        "id": "tgYTWkO6eWaW"
      },
      "source": [
        "### 7.3: CellTypist\n",
        "\n",
        "[`CellTypist`](https://www.celltypist.org/) is a tool that uses a machine learning model to predict cell types based on marker genes. It is a very powerful tool that can be used to predict cell types in single-cell data.\n",
        "\n",
        "First, install `celltypist` and prepare the data."
      ]
    },
    {
      "cell_type": "code",
      "execution_count": null,
      "metadata": {
        "id": "sp1ESlEbgdM8"
      },
      "outputs": [],
      "source": [
        "adata.raw.to_adata().write_h5ad(\"data/for_celltypist.h5ad\", compression=\"gzip\")"
      ]
    },
    {
      "cell_type": "code",
      "execution_count": null,
      "metadata": {
        "id": "S55I2Cc0gTXN"
      },
      "outputs": [],
      "source": [
        "!pip install -qqq celltypist\n",
        "# the session might crash after running this step as we are installing numpy. Don't worry. just reconnect and then continue with the rest below.\n",
        "!celltypist --update-models"
      ]
    },
    {
      "cell_type": "markdown",
      "metadata": {
        "id": "DiFbZvNZeWaW"
      },
      "source": [
        "Make a directory for the output after running celltypist on our data"
      ]
    },
    {
      "cell_type": "code",
      "execution_count": null,
      "metadata": {
        "id": "vK6nUcD6eWaW"
      },
      "outputs": [],
      "source": [
        "!mkdir celltypist_output"
      ]
    },
    {
      "cell_type": "markdown",
      "metadata": {
        "id": "OFr488TaeWaW"
      },
      "source": [
        "Run celltypist on our data and allow it to predict labels on each single cell with all the specifications needed."
      ]
    },
    {
      "cell_type": "code",
      "execution_count": null,
      "metadata": {
        "id": "9uVVzFhmeWaW"
      },
      "outputs": [],
      "source": [
        "!celltypist --indata data/for_celltypist.h5ad --model Immune_All_Low.pkl --outdir celltypist_output --majority-voting"
      ]
    },
    {
      "cell_type": "markdown",
      "metadata": {
        "id": "2um06e95eWaW"
      },
      "source": [
        "Import and label the object for `predicted_labels.csv` as `celltypist_result`."
      ]
    },
    {
      "cell_type": "code",
      "execution_count": null,
      "metadata": {
        "id": "bXkYxr8NeWaW"
      },
      "outputs": [],
      "source": [
        "celltypist_result = pd.read_csv(\"celltypist_output/predicted_labels.csv\", index_col=0)\n",
        "celltypist_result"
      ]
    },
    {
      "cell_type": "markdown",
      "metadata": {
        "id": "zwAEW1k0eWaW"
      },
      "source": [
        "Transfer the celltypist results to the main data object."
      ]
    },
    {
      "cell_type": "code",
      "execution_count": null,
      "metadata": {
        "id": "BzxcmuFoeWaW"
      },
      "outputs": [],
      "source": [
        "adata.obs[\"celltypist_majority_voting\"] = pd.Series(\n",
        "    celltypist_result[\"majority_voting\"]\n",
        ")\n",
        "adata.obs"
      ]
    },
    {
      "cell_type": "markdown",
      "metadata": {
        "id": "h9Uf3-vJeWaW"
      },
      "source": [
        "Visualise the data via umap with the new celltypist labels"
      ]
    },
    {
      "cell_type": "code",
      "execution_count": null,
      "metadata": {
        "id": "poeiyAmgeWaW"
      },
      "outputs": [],
      "source": [
        "sc.pl.umap(adata, color=[\"celltypist_majority_voting\"])\n",
        "sc.pl.umap(\n",
        "    adata,\n",
        "    color=[\"celltypist_majority_voting\"],\n",
        "    legend_loc=\"on data\",\n",
        "    legend_fontoutline=2,\n",
        ")"
      ]
    },
    {
      "cell_type": "markdown",
      "metadata": {
        "id": "JsG2NlDIeWaW"
      },
      "source": [
        "### Let's save this result"
      ]
    },
    {
      "cell_type": "code",
      "execution_count": null,
      "metadata": {
        "id": "-QcIl17teWaW"
      },
      "outputs": [],
      "source": [
        "adata.write_h5ad(\"data/prostate_demo_processed.h5ad\", compression=\"gzip\")"
      ]
    },
    {
      "cell_type": "markdown",
      "metadata": {
        "id": "RBalqywZeWaW"
      },
      "source": [
        "### Let's five a bit deeper into the T cells."
      ]
    },
    {
      "cell_type": "code",
      "execution_count": null,
      "metadata": {
        "id": "2DGc-Sg7kR-r",
        "scrolled": true
      },
      "outputs": [],
      "source": [
        "# adata = sc.read_h5ad(\"prostate_demo_processed.h5ad\")\n",
        "adata_T = adata[adata.obs[\"cell_type\"] == \"T\"]\n",
        "adata_T"
      ]
    },
    {
      "cell_type": "markdown",
      "metadata": {
        "id": "Q6dk2ZLFeWaW"
      },
      "source": [
        "Let's re-cluster the T cells and visualise the data. We need to start from the step where most of the gene expression data has been normalised but not filtered yet i.e. is still intact, as we need to calculate the highly variable genes again. This time, the highly variable genes will be specific for the T cell sub-clusters. Lucky for us, we actually did store this step in the `.raw` slot.\n",
        "\n",
        "### Continue the rest of the steps as before."
      ]
    },
    {
      "cell_type": "code",
      "execution_count": null,
      "metadata": {
        "id": "C9L57gvMeWaW"
      },
      "outputs": [],
      "source": [
        "adata_T = adata_T.raw.to_adata()\n",
        "adata_T"
      ]
    },
    {
      "cell_type": "code",
      "execution_count": null,
      "metadata": {
        "id": "u3cimCJpeWaW"
      },
      "outputs": [],
      "source": [
        "sc.pp.highly_variable_genes(adata_T, min_mean=0.0125, max_mean=3, min_disp=0.5)\n",
        "sc.pl.highly_variable_genes(adata_T)"
      ]
    },
    {
      "cell_type": "code",
      "execution_count": null,
      "metadata": {
        "id": "f_ih1E_zeWaW"
      },
      "outputs": [],
      "source": [
        "adata_T.var.highly_variable.value_counts()"
      ]
    },
    {
      "cell_type": "code",
      "execution_count": null,
      "metadata": {
        "id": "Loic58a2eWaW"
      },
      "outputs": [],
      "source": [
        "# stash what we have done in raw, before we subset the data\n",
        "adata_T.raw = adata_T\n",
        "# Actually do the filtering for PCA\n",
        "adata_T = adata_T[\n",
        "    :, adata_T.var.highly_variable\n",
        "].copy()  # all rows/indexes : columns only selecting for those within high_variable, and then making a copy of itself\n",
        "adata_T"
      ]
    },
    {
      "cell_type": "code",
      "execution_count": null,
      "metadata": {
        "id": "i-LUCzuceWaW"
      },
      "outputs": [],
      "source": [
        "sc.pp.regress_out(adata_T, [\"total_counts\", \"pct_counts_mt\"])\n",
        "sc.pp.scale(adata_T, max_value=10)\n",
        "sc.tl.pca(adata, svd_solver=\"arpack\")\n",
        "sc.pl.pca_variance_ratio(adata, log=True, n_pcs=50)"
      ]
    },
    {
      "cell_type": "code",
      "execution_count": null,
      "metadata": {
        "id": "XuLfmtWVeWaX"
      },
      "outputs": [],
      "source": [
        "sc.external.pp.harmony_integrate(adata, key=\"barcode\")\n",
        "sc.pp.neighbors(adata, n_neighbors=10, use_rep=\"X_pca_harmony\")\n",
        "sc.tl.umap(adata, min_dist=0.3)  # 0.3 is personal preference"
      ]
    },
    {
      "cell_type": "code",
      "execution_count": null,
      "metadata": {
        "id": "-GK1V_HgeWaX"
      },
      "outputs": [],
      "source": [
        "sc.pl.umap(\n",
        "    adata,\n",
        "    color=[\n",
        "        \"patient\",\n",
        "        \"group\",\n",
        "        \"cell_type\",\n",
        "    ],\n",
        "    ncols=1,\n",
        ")"
      ]
    },
    {
      "cell_type": "code",
      "execution_count": null,
      "metadata": {
        "id": "vRPxzslzeWaX"
      },
      "outputs": [],
      "source": [
        "sc.tl.leiden(adata, resolution=0.5)"
      ]
    },
    {
      "cell_type": "code",
      "execution_count": null,
      "metadata": {
        "id": "4fjRXx4IeWaX"
      },
      "outputs": [],
      "source": [
        "sc.pl.umap(adata, color=\"leiden\")\n",
        "sc.pl.umap(adata, color=\"leiden\", legend_loc=\"on data\", legend_fontoutline=2)"
      ]
    },
    {
      "cell_type": "markdown",
      "metadata": {
        "id": "cESGBdD3eWaX"
      },
      "source": [
        "### How would you visualise different T cell marker genes? ❓\n",
        "\n",
        "Earlier, we saw genes CD4, CD8B. What are other cell surface markers found on T cells?\n",
        "\n",
        "Some hints from https://www.nature.com/articles/s41467-019-12464-3"
      ]
    },
    {
      "cell_type": "code",
      "execution_count": null,
      "metadata": {
        "id": "QS9J76CzeWaX"
      },
      "outputs": [],
      "source": [
        "marker_genes = (\n",
        "    [\n",
        "        \"CD4\",\n",
        "        \"CD8B\",\n",
        "        \"FOXP3\",\n",
        "        \"SELL\",\n",
        "        \"CCR7\",\n",
        "        \"MKI67\",\n",
        "        \"NKG7\",\n",
        "        \"GATA3\",\n",
        "        \"RORC\",\n",
        "        \"CXCR5\",\n",
        "        \"CD69\",\n",
        "        \"GZMK\",\n",
        "    ],\n",
        ")\n",
        "sc.pl.umap(\n",
        "    adata,\n",
        "    color=marker_genes,\n",
        "    ncols=3,\n",
        "    size=5,\n",
        "    color_map=tools.cmp(),\n",
        ")"
      ]
    },
    {
      "cell_type": "code",
      "execution_count": null,
      "metadata": {
        "id": "WuRuQyopeWaX"
      },
      "outputs": [],
      "source": [
        "sc.pl.dotplot(\n",
        "    adata_T, marker_genes, groupby=\"leiden\", standard_scale=\"var\", color_map=\"Blues\"\n",
        ")"
      ]
    },
    {
      "cell_type": "code",
      "execution_count": null,
      "metadata": {
        "id": "w5GYvtpreWaX"
      },
      "outputs": [],
      "source": [
        "sc.pl.umap(adata_T, color=\"\")"
      ]
    },
    {
      "cell_type": "markdown",
      "metadata": {
        "id": "WOrl47TmeWaX"
      },
      "source": [
        "### Transfer the annotations"
      ]
    },
    {
      "cell_type": "code",
      "execution_count": null,
      "metadata": {
        "id": "WeG8pB3TeWaX"
      },
      "outputs": [],
      "source": [
        "cell_types = {\n",
        "    \"0\": \"\",\n",
        "    \"1\": \"\",\n",
        "    \"2\": \"\",\n",
        "    \"3\": \"\",\n",
        "    \"4\": \"\",\n",
        "    \"5\": \"\",\n",
        "    \"6\": \"\",\n",
        "    \"7\": \"\",\n",
        "    \"8\": \"\",\n",
        "    \"9\": \"\",\n",
        "    \"10\": \"\",\n",
        "    \"11\": \"\",\n",
        "    \"12\": \"\",\n",
        "    \"13\": \"\",\n",
        "    \"14\": \"\",\n",
        "    \"15\": \"\",\n",
        "    \"16\": \"\",\n",
        "    \"17\": \"\",\n",
        "    \"18\": \"\",\n",
        "    \"19\": \"\",\n",
        "}\n",
        "\n",
        "adata_T.obs[\"cell_type_T\"] = [cell_types[x] for x in adata_T.obs[\"leiden\"]]"
      ]
    },
    {
      "cell_type": "code",
      "execution_count": null,
      "metadata": {
        "id": "IbEXcZJieWaX"
      },
      "outputs": [],
      "source": [
        "sc.pl.umap(adata_T, color=\"cell_type_T\", legend_loc=\"on data\", legend_fontoutline=2)"
      ]
    },
    {
      "cell_type": "code",
      "execution_count": null,
      "metadata": {
        "id": "Y_B9FBMHkR-s"
      },
      "outputs": [],
      "source": [
        "adata_T.write_h5ad(\"data/prostate_demo_processed_T.h5ad\", compression=\"gzip\")"
      ]
    },
    {
      "cell_type": "markdown",
      "metadata": {
        "id": "nNjdC73HkR_B"
      },
      "source": [
        "This marks the end of the demo. Good job!\n",
        "\n",
        "# Other useful resources\n",
        "For more details on the dataset that we demoed today, please checkout the original publication and data portal:\n",
        "\n",
        "https://www.prostatecellatlas.org/\n",
        "\n",
        "<a href=\"https://doi.org/10.1016/j.celrep.2021.110132\"><img src=\"https://www.prostatecellatlas.org/assets/cover.jpg\" alt=\"prostate_cellrep\" width=\"200\">"
      ]
    },
    {
      "cell_type": "markdown",
      "metadata": {
        "id": "yGqt0QOtnRme"
      },
      "source": [
        "If you have any questions, email Kelvin at z.tuong@uq.edu.au"
      ]
    },
    {
      "cell_type": "markdown",
      "metadata": {},
      "source": []
    }
  ],
  "metadata": {
    "colab": {
      "include_colab_link": true,
      "provenance": []
    },
    "kernelspec": {
      "display_name": "dandelion",
      "language": "python",
      "name": "python3"
    },
    "language_info": {
      "codemirror_mode": {
        "name": "ipython",
        "version": 3
      },
      "file_extension": ".py",
      "mimetype": "text/x-python",
      "name": "python",
      "nbconvert_exporter": "python",
      "pygments_lexer": "ipython3",
      "version": "3.11.9"
    }
  },
  "nbformat": 4,
  "nbformat_minor": 0
}
